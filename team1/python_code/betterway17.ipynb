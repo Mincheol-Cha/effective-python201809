{
 "cells": [
  {
   "cell_type": "code",
   "execution_count": 1,
   "metadata": {},
   "outputs": [],
   "source": [
    "# 기본적인 정규화 함수\n",
    "def normalize(numbers):\n",
    "    total = sum(numbers)\n",
    "    result = []\n",
    "    for value in numbers:\n",
    "        percent = 100 * float(value) / total\n",
    "        result.append(percent)\n",
    "    return result\n"
   ]
  },
  {
   "cell_type": "code",
   "execution_count": 2,
   "metadata": {},
   "outputs": [
    {
     "name": "stdout",
     "output_type": "stream",
     "text": [
      "[4.437869822485207, 10.059171597633137, 15.680473372781066, 7.396449704142012, 5.029585798816568, 57.396449704142015]\n"
     ]
    }
   ],
   "source": [
    "visits = [15, 34, 53, 25, 17, 194]\n",
    "percentages = normalize(visits)\n",
    "print(percentages)"
   ]
  },
  {
   "cell_type": "code",
   "execution_count": 3,
   "metadata": {},
   "outputs": [],
   "source": [
    "# visitor 데이터를 읽는 제너레이터 함수 정의\n",
    "# 제너레이터로 만들어야지 visitor가 엄청엄청 커도 계산이 가능 (betterway 16 참고)\n",
    "def read_visits(data_path):\n",
    "    with open(data_path) as f:\n",
    "        for line in f:\n",
    "            yield int(line)"
   ]
  },
  {
   "cell_type": "code",
   "execution_count": 4,
   "metadata": {},
   "outputs": [
    {
     "name": "stdout",
     "output_type": "stream",
     "text": [
      "[]\n"
     ]
    }
   ],
   "source": [
    "it = read_visits('./my_numbers.txt')\n",
    "percentages = normalize(it)\n",
    "print(percentages) # 어... 근데 안된다...?"
   ]
  },
  {
   "cell_type": "markdown",
   "metadata": {},
   "source": [
    "- 위에꺼 안됨.....\n",
    "- 위 결과가 나온 것은 이터레이터가 결과를 한 번만 생성하기 때문\n",
    "- 이미 StopIteration 예외를 일으킨 이터레이터나 제너레이터를 순회하면 어떤 결과도 얻을 수 없다."
   ]
  },
  {
   "cell_type": "code",
   "execution_count": 5,
   "metadata": {},
   "outputs": [
    {
     "name": "stdout",
     "output_type": "stream",
     "text": [
      "[3546, 246, 25436, 7356, 35432, 25, 2566, 24632, 264, 25235, 662, 2, 262, 5234, 5263, 236, 26456, 25, 23523, 52, 45, 62, 52, 72, 23, 52, 52, 53, 734, 645, 6345, 6346, 63, 742, 6234, 64, 724, 6245]\n",
      "[]\n"
     ]
    }
   ],
   "source": [
    "it2 = read_visits('./my_numbers.txt')\n",
    "print(list(it2))\n",
    "print(list(it2))"
   ]
  },
  {
   "cell_type": "markdown",
   "metadata": {},
   "source": [
    "- 이미 소진한 이터레이터를 순회해도 오류가 뜨지 않음\n",
    "- for, list 등과 같은 파이썬 표준 라이브러리의 많은 함수는 정상적인 동작과정에서 StopIteration 예외가 일어 날 수 있다고 가정\n",
    "- 이런 함수는 결과가 없는 이터레이터와 결과가 있었지만 이미 소진한 이터레이터의 차이를 알려주지 않는다."
   ]
  },
  {
   "cell_type": "code",
   "execution_count": 6,
   "metadata": {},
   "outputs": [],
   "source": [
    "# 위 문제를 해결하기 위해 입력 이터레이터를 명시적으로 소진 후 전체 콘텐츠의 복사본을 리스트에 저장\n",
    "# 그렇게하면 리스트 버전의 데이터를 필요한 만큼 순회 할 수 있다.\n",
    "# 1번 cell과 같은 함수지만 입력 이터레이터를 방어적으로 복사하는 함수임.\n",
    "def normalize_copy(numbers):\n",
    "    numbers = list(numbers)\n",
    "    total = float(sum(numbers))\n",
    "    result = []\n",
    "    for value in numbers:\n",
    "        percent = 100 * value / total\n",
    "        result.append(percent)\n",
    "    return result"
   ]
  },
  {
   "cell_type": "code",
   "execution_count": 7,
   "metadata": {},
   "outputs": [
    {
     "name": "stdout",
     "output_type": "stream",
     "text": [
      "[1.6492562998241909, 0.11441541166293033, 11.830367524627219, 3.421299870701283, 16.47954010585751, 0.011627582486070156, 1.1934550663702408, 11.456424471875204, 0.12278727105290085, 11.736881761439216, 0.30789838423113775, 0.0009302065988856125, 0.12185706445401524, 2.434350669283648, 2.4478386649674895, 0.10976437866850228, 12.304772890058882, 0.011627582486070156, 10.940624912793131, 0.024185371571025925, 0.02092964847492628, 0.02883640456545399, 0.024185371571025925, 0.03348743755988205, 0.010697375887184543, 0.024185371571025925, 0.024185371571025925, 0.02465047487046873, 0.3413858217910198, 0.29999162814061003, 2.951080434964606, 2.9515455382640483, 0.029301507864896794, 0.3451066481865622, 2.899453968726454, 0.0297666111643396, 0.33673478879659174, 2.904570105020325]\n"
     ]
    }
   ],
   "source": [
    "it3 = read_visits('./my_numbers.txt')\n",
    "percentages = normalize_copy(it3)\n",
    "print(percentages) # 제대로 동작 함"
   ]
  },
  {
   "cell_type": "code",
   "execution_count": 8,
   "metadata": {},
   "outputs": [],
   "source": [
    "# 위 방법의 문제는 입력받은 이터레이터 콘텐츠의 복사본이 클 수도 있다는 점\n",
    "# 저렇게 할거면 그냥 read_visits를 리스트로 받아오는게....\n",
    "# 만약 my_numbers.txt가 엄청 크면 OOM 뜰 수 있음 (list의 단점)\n",
    "# 이 문제를 피하려면, 호출 될 때마다 새 이터레이터를 반환하는 함수를 받게 만드는 것"
   ]
  },
  {
   "cell_type": "code",
   "execution_count": 9,
   "metadata": {},
   "outputs": [],
   "source": [
    "def normalize_func(get_iter):\n",
    "    total = sum(get_iter()) # 새 이터레이터, total을 계산하는데 필요한 sum 함수를 위한\n",
    "    result = []\n",
    "    for value in get_iter(): # 새 이터레이터, 다시 처음부터 percent 계산을 위해 value에 대한 \n",
    "        percent = 100 * value / total\n",
    "        result.append(percent)\n",
    "    return result"
   ]
  },
  {
   "cell_type": "code",
   "execution_count": 10,
   "metadata": {},
   "outputs": [
    {
     "name": "stdout",
     "output_type": "stream",
     "text": [
      "[1.6492562998241909, 0.11441541166293033, 11.830367524627219, 3.421299870701283, 16.47954010585751, 0.011627582486070156, 1.1934550663702408, 11.456424471875204, 0.12278727105290085, 11.736881761439216, 0.30789838423113775, 0.0009302065988856125, 0.12185706445401524, 2.434350669283648, 2.4478386649674895, 0.10976437866850228, 12.304772890058882, 0.011627582486070156, 10.940624912793131, 0.024185371571025925, 0.02092964847492628, 0.02883640456545399, 0.024185371571025925, 0.03348743755988205, 0.010697375887184543, 0.024185371571025925, 0.024185371571025925, 0.02465047487046873, 0.3413858217910198, 0.29999162814061003, 2.951080434964606, 2.9515455382640483, 0.029301507864896794, 0.3451066481865622, 2.899453968726454, 0.0297666111643396, 0.33673478879659174, 2.904570105020325]\n"
     ]
    }
   ],
   "source": [
    "# normalize_func을 사용하려면 제너레이터를 호출해서 매번 새 이터레이터를 생성하는 람다 표현식을 넘겨주면 됨\n",
    "path = \"./my_numbers.txt\"\n",
    "percentages = normalize_func(lambda: read_visits(path))\n",
    "print(percentages)"
   ]
  },
  {
   "cell_type": "markdown",
   "metadata": {},
   "source": [
    "- 잘 동작하긴 함....\n",
    "- 근데 님들... 람다함수 잘(자주) 쓰나여...?\n",
    "- 이렇게 람다 함수를 넘겨주는 방법은 세련되지 못함\n",
    "- 같은 결과를 얻는 더 좋은 방법은 이터레이터 프로토콜(iterator protocol)을 구현한 새 컨테이너 클래스를 제공하는 것\n",
    "\n",
    "- 이터레이터 프로토콜은 파이썬의 for 루프와 관련 표현식이 컨테이너 타입의 콘텐츠를 탐색하는 방법을 나타냄\n",
    "\n",
    "- 파이썬은 for x in foo 같은 문장을 만나면 실제로는 iter(foo)를 호출한다.\n",
    "- 내장함수 iter는 특별한 메서드인 foo.__iter__를 호출\n",
    "- __iter__메서드(__next__라는 특별한 메서드를 구현하는)는 이터레이터 객체를 반환해야 함 \n",
    "- for 루프는 이터레이터를 모두 소진할 때까지 (StopIteration 예외가 발생할 때까지) 이터레이터 객체에 내장함수 next를 계속 호출"
   ]
  },
  {
   "cell_type": "code",
   "execution_count": 11,
   "metadata": {},
   "outputs": [],
   "source": [
    "# 복잡해 보이지만 사실 클래스의 __iter__ 메서드를 제너레이터를 구현하면 됨\n",
    "# 여행자 데이터를 담은 파일을 읽는 이터러블(iterable:순회가능) 컨테이너 클래스.\n",
    "class ReadVisits(object):\n",
    "    def __init__(self, data_path):\n",
    "        self.data_path = data_path\n",
    "        \n",
    "    def __iter__(self):\n",
    "        with open(self.data_path) as f:\n",
    "            for line in f:\n",
    "                yield int(line)"
   ]
  },
  {
   "cell_type": "code",
   "execution_count": 12,
   "metadata": {},
   "outputs": [
    {
     "name": "stdout",
     "output_type": "stream",
     "text": [
      "[1.6492562998241909, 0.11441541166293033, 11.830367524627219, 3.421299870701283, 16.47954010585751, 0.011627582486070156, 1.1934550663702408, 11.456424471875204, 0.12278727105290085, 11.736881761439216, 0.30789838423113775, 0.0009302065988856125, 0.12185706445401524, 2.434350669283648, 2.4478386649674895, 0.10976437866850228, 12.304772890058882, 0.011627582486070156, 10.940624912793131, 0.024185371571025925, 0.02092964847492628, 0.02883640456545399, 0.024185371571025925, 0.03348743755988205, 0.010697375887184543, 0.024185371571025925, 0.024185371571025925, 0.02465047487046873, 0.3413858217910198, 0.29999162814061003, 2.951080434964606, 2.9515455382640483, 0.029301507864896794, 0.3451066481865622, 2.899453968726454, 0.0297666111643396, 0.33673478879659174, 2.904570105020325]\n"
     ]
    }
   ],
   "source": [
    "visits = ReadVisits(path)\n",
    "percentages = normalize(visits)\n",
    "print(percentages)"
   ]
  },
  {
   "cell_type": "markdown",
   "metadata": {},
   "source": [
    "- 위 코드가 동작하는 이유는, `normalize`의 `sum` 메서드가 새 이터레이터 객체를 할당하려고 `ReadVisits.__iter__`를 호출하기 때문\n",
    "- 숫자를 정규화하는 for 루프도 두번째 이터레이터 객체를 할당할 때 `__iter__`를 호출한다.\n",
    "- 위 두 이터레이터는 독립적으로 동작하므로 각각의 순회 과정에서 모든 입력 데이터 값을 얻을 수 있다.\n",
    "- 이 방법의 유일한 단점은 입력 데이터를 여러 번 읽는다는 점이다."
   ]
  },
  {
   "cell_type": "markdown",
   "metadata": {},
   "source": [
    "- 이제 `ReadVisits`와 같은 컨테이너가 어떻게 동작하는지 알았으니, 파라미터가 단순한 이터레이터가 아님을 보장하는 함수를 작성해야 함\n",
    "  - 프로토콜에 따르면 내장함수 `iter`에 이터레이터를 넘기면 이터레이터 자체가 반환\n",
    "  - 반면에 `iter`에 컨테이너 타입을 넘기면 매번 새 이터레이터 객체가 반환 됨\n",
    "  - 따라서 이 동작으로 입력값을 테스트해서 이터레이터면 `TypeError`를 일으켜 거부하게 만들면 된다."
   ]
  },
  {
   "cell_type": "code",
   "execution_count": 13,
   "metadata": {},
   "outputs": [],
   "source": [
    "def normalize_defensive(numbers):\n",
    "    if iter(numbers) is iter(numbers): # 이터레이터 -- 거부!\n",
    "        raise TypeError('Must supply a container')\n",
    "    total = sum(numbers)\n",
    "    result = []\n",
    "    for value in numbers:\n",
    "        percent = 100 * value / total\n",
    "        result.append(percent)\n",
    "    return result"
   ]
  },
  {
   "cell_type": "markdown",
   "metadata": {},
   "source": [
    "- `normalize_defensive`는 `normalize_copy`처럼 입력 이터레이터 전체를 복사하고 싶지 않지만, 입력 데이터를 여러번 순회해야 할 때 사용하면 좋다.\n",
    "  - 이 함수는 `list`와 `ReadVisits`를 입력으로 받으면 입력이 컨테이너이므로 기대한 대로 동작\n",
    "  - 이터레이터 프로토콜을 따르는 어떤 컨테이너 타입에 대해서도 제대로 동작"
   ]
  },
  {
   "cell_type": "code",
   "execution_count": 14,
   "metadata": {},
   "outputs": [
    {
     "data": {
      "text/plain": [
       "[1.6492562998241909,\n",
       " 0.11441541166293033,\n",
       " 11.830367524627219,\n",
       " 3.421299870701283,\n",
       " 16.47954010585751,\n",
       " 0.011627582486070156,\n",
       " 1.1934550663702408,\n",
       " 11.456424471875204,\n",
       " 0.12278727105290085,\n",
       " 11.736881761439216,\n",
       " 0.30789838423113775,\n",
       " 0.0009302065988856125,\n",
       " 0.12185706445401524,\n",
       " 2.434350669283648,\n",
       " 2.4478386649674895,\n",
       " 0.10976437866850228,\n",
       " 12.304772890058882,\n",
       " 0.011627582486070156,\n",
       " 10.940624912793131,\n",
       " 0.024185371571025925,\n",
       " 0.02092964847492628,\n",
       " 0.02883640456545399,\n",
       " 0.024185371571025925,\n",
       " 0.03348743755988205,\n",
       " 0.010697375887184543,\n",
       " 0.024185371571025925,\n",
       " 0.024185371571025925,\n",
       " 0.02465047487046873,\n",
       " 0.3413858217910198,\n",
       " 0.29999162814061003,\n",
       " 2.951080434964606,\n",
       " 2.9515455382640483,\n",
       " 0.029301507864896794,\n",
       " 0.3451066481865622,\n",
       " 2.899453968726454,\n",
       " 0.0297666111643396,\n",
       " 0.33673478879659174,\n",
       " 2.904570105020325]"
      ]
     },
     "execution_count": 14,
     "metadata": {},
     "output_type": "execute_result"
    }
   ],
   "source": [
    "visits = [15, 35, 80]\n",
    "normalize_defensive(visits) # 오류 없음\n",
    "visits = ReadVisits(path) \n",
    "normalize_defensive(visits) # 오류 없음"
   ]
  },
  {
   "cell_type": "code",
   "execution_count": 15,
   "metadata": {},
   "outputs": [
    {
     "ename": "TypeError",
     "evalue": "Must supply a container",
     "output_type": "error",
     "traceback": [
      "\u001b[0;31m---------------------------------------------------------------------------\u001b[0m",
      "\u001b[0;31mTypeError\u001b[0m                                 Traceback (most recent call last)",
      "\u001b[0;32m<ipython-input-15-d893faf1a58b>\u001b[0m in \u001b[0;36m<module>\u001b[0;34m()\u001b[0m\n\u001b[1;32m      1\u001b[0m \u001b[0;31m# 함수는 입력이 이터러블이어도 컨테이너가 아니면 예외를 일으킨다\u001b[0m\u001b[0;34m\u001b[0m\u001b[0;34m\u001b[0m\u001b[0m\n\u001b[1;32m      2\u001b[0m \u001b[0mit\u001b[0m \u001b[0;34m=\u001b[0m \u001b[0miter\u001b[0m\u001b[0;34m(\u001b[0m\u001b[0mvisits\u001b[0m\u001b[0;34m)\u001b[0m\u001b[0;34m\u001b[0m\u001b[0m\n\u001b[0;32m----> 3\u001b[0;31m \u001b[0mnormalize_defensive\u001b[0m\u001b[0;34m(\u001b[0m\u001b[0mit\u001b[0m\u001b[0;34m)\u001b[0m\u001b[0;34m\u001b[0m\u001b[0m\n\u001b[0m",
      "\u001b[0;32m<ipython-input-13-462b037875ce>\u001b[0m in \u001b[0;36mnormalize_defensive\u001b[0;34m(numbers)\u001b[0m\n\u001b[1;32m      1\u001b[0m \u001b[0;32mdef\u001b[0m \u001b[0mnormalize_defensive\u001b[0m\u001b[0;34m(\u001b[0m\u001b[0mnumbers\u001b[0m\u001b[0;34m)\u001b[0m\u001b[0;34m:\u001b[0m\u001b[0;34m\u001b[0m\u001b[0m\n\u001b[1;32m      2\u001b[0m     \u001b[0;32mif\u001b[0m \u001b[0miter\u001b[0m\u001b[0;34m(\u001b[0m\u001b[0mnumbers\u001b[0m\u001b[0;34m)\u001b[0m \u001b[0;32mis\u001b[0m \u001b[0miter\u001b[0m\u001b[0;34m(\u001b[0m\u001b[0mnumbers\u001b[0m\u001b[0;34m)\u001b[0m\u001b[0;34m:\u001b[0m \u001b[0;31m# 이터레이터 -- 거부!\u001b[0m\u001b[0;34m\u001b[0m\u001b[0m\n\u001b[0;32m----> 3\u001b[0;31m         \u001b[0;32mraise\u001b[0m \u001b[0mTypeError\u001b[0m\u001b[0;34m(\u001b[0m\u001b[0;34m'Must supply a container'\u001b[0m\u001b[0;34m)\u001b[0m\u001b[0;34m\u001b[0m\u001b[0m\n\u001b[0m\u001b[1;32m      4\u001b[0m     \u001b[0mtotal\u001b[0m \u001b[0;34m=\u001b[0m \u001b[0msum\u001b[0m\u001b[0;34m(\u001b[0m\u001b[0mnumbers\u001b[0m\u001b[0;34m)\u001b[0m\u001b[0;34m\u001b[0m\u001b[0m\n\u001b[1;32m      5\u001b[0m     \u001b[0mresult\u001b[0m \u001b[0;34m=\u001b[0m \u001b[0;34m[\u001b[0m\u001b[0;34m]\u001b[0m\u001b[0;34m\u001b[0m\u001b[0m\n",
      "\u001b[0;31mTypeError\u001b[0m: Must supply a container"
     ]
    }
   ],
   "source": [
    "# 함수는 입력이 이터러블이어도 컨테이너가 아니면 예외를 일으킨다\n",
    "it = iter(visits)\n",
    "normalize_defensive(it)"
   ]
  },
  {
   "cell_type": "code",
   "execution_count": null,
   "metadata": {},
   "outputs": [],
   "source": []
  }
 ],
 "metadata": {
  "kernelspec": {
   "display_name": "Python 3",
   "language": "python",
   "name": "python3"
  },
  "language_info": {
   "codemirror_mode": {
    "name": "ipython",
    "version": 3
   },
   "file_extension": ".py",
   "mimetype": "text/x-python",
   "name": "python",
   "nbconvert_exporter": "python",
   "pygments_lexer": "ipython3",
   "version": "3.5.4"
  }
 },
 "nbformat": 4,
 "nbformat_minor": 2
}
